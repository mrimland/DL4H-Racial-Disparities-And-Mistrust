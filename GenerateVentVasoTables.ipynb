{
  "nbformat": 4,
  "nbformat_minor": 0,
  "metadata": {
    "colab": {
      "provenance": []
    },
    "kernelspec": {
      "name": "python3",
      "display_name": "Python 3"
    },
    "language_info": {
      "name": "python"
    }
  },
  "cells": [
    {
      "cell_type": "code",
      "execution_count": 48,
      "metadata": {
        "id": "4uVqTupBsGCv"
      },
      "outputs": [],
      "source": [
        "# Import libraries\n",
        "from datetime import timedelta\n",
        "import os\n",
        "from google.colab import files\n",
        "\n",
        "import numpy as np\n",
        "import pandas as pd\n",
        "from pandas_gbq import read_gbq\n",
        "import re\n",
        "import matplotlib.pyplot as plt\n",
        "import matplotlib.dates as mdates\n",
        "\n",
        "import psycopg2\n",
        "import time\n",
        "from collections import defaultdict\n",
        "import tqdm\n",
        "import pylab as pl\n",
        "import math\n",
        "from scipy.stats import mannwhitneyu\n",
        "\n",
        "# Make pandas dataframes prettier\n",
        "from IPython.display import display, HTML, Image\n",
        "%matplotlib inline\n",
        "\n",
        "plt.style.use('ggplot')\n",
        "plt.rcParams.update({'font.size': 20})\n",
        "\n",
        "# Access data using Google BigQuery.\n",
        "from google.colab import auth\n",
        "from google.cloud import bigquery"
      ]
    },
    {
      "cell_type": "code",
      "source": [
        "# authenticate\n",
        "auth.authenticate_user()"
      ],
      "metadata": {
        "id": "kSoROHxhsNuR"
      },
      "execution_count": 2,
      "outputs": []
    },
    {
      "cell_type": "code",
      "source": [
        "# Set up environment variables\n",
        "project_id = 'my-project-1532744781277'\n",
        "if project_id == 'CHANGE-ME':\n",
        "  raise ValueError('You must change project_id to your GCP project.')\n",
        "os.environ[\"GOOGLE_CLOUD_PROJECT\"] = project_id\n",
        "\n",
        "#Users should have their own project_id or import\n",
        "\n",
        "# Read data from BigQuery into pandas dataframes.\n",
        "def run_query(query, project_id=project_id):\n",
        "  return read_gbq(\n",
        "      query,\n",
        "      project_id=project_id,\n",
        "      dialect='standard')\n",
        "\n",
        "# set the dataset\n",
        "# if you want to use the demo, change this to mimic_demo\n",
        "hosp_dataset_4 = 'mimiciv_3_1_hosp'\n",
        "icu_dataset_4 = 'mimiciv_3_1_icu'\n",
        "derived_dataset_4 = 'mimiciv_3_1_derived'\n",
        "derived_dataset_3 = 'mimiciii_derived'\n",
        "clinical_dataset_3 = 'mimiciii_clinical'\n",
        "\n",
        "\n",
        "\n",
        "#indicate whether to run a limited sample size for testing purposes\n",
        "limited_sample = False\n",
        "\n",
        "\n",
        "# test it works\n",
        "df = run_query(\"\"\"\n",
        "SELECT subject_id\n",
        "FROM `physionet-data.mimiciv_3_1_hosp.patients`\n",
        "WHERE subject_id = 10012853\n",
        "\"\"\")\n",
        "assert df.shape[0] == 1, 'unable to query MIMIC-IV!'"
      ],
      "metadata": {
        "colab": {
          "base_uri": "https://localhost:8080/"
        },
        "id": "OgfldJ62sPTT",
        "outputId": "c5bbe6d1-2955-496b-f943-87b95b87ee23"
      },
      "execution_count": 3,
      "outputs": [
        {
          "output_type": "stream",
          "name": "stdout",
          "text": [
            "Downloading: 100%|\u001b[32m██████████\u001b[0m|\n"
          ]
        }
      ]
    },
    {
      "cell_type": "code",
      "source": [
        "query = \"\"\"\n",
        "-- Identify The presence of a mechanical ventilation using settings\n",
        "select\n",
        "  stay_id, charttime\n",
        "  -- case statement determining whether it is an instance of mech vent\n",
        "  , max(\n",
        "    case\n",
        "      when itemid is null or value is null then 0 -- can't have null values\n",
        "      when itemid = 720 and value != 'Other/Remarks' THEN 1  -- VentTypeRecorded\n",
        "      when itemid = 223848 and value != 'Other' THEN 1\n",
        "      when itemid = 223849 then 1 -- ventilator mode\n",
        "      when itemid = 467 and value = 'Ventilator' THEN 1 -- O2 delivery device == ventilator\n",
        "      when itemid in\n",
        "        (\n",
        "        445, 448, 449, 450, 1340, 1486, 1600, 224687 -- minute volume\n",
        "        , 639, 654, 681, 682, 683, 684,224685,224684,224686 -- tidal volume\n",
        "        , 218,436,535,444,459,224697,224695,224696,224746,224747 -- High/Low/Peak/Mean/Neg insp force (\"RespPressure\")\n",
        "        , 221,1,1211,1655,2000,226873,224738,224419,224750,227187 -- Insp pressure\n",
        "        , 543 -- PlateauPressure\n",
        "        , 5865,5866,224707,224709,224705,224706 -- APRV pressure\n",
        "        , 60,437,505,506,686,220339,224700 -- PEEP\n",
        "        , 3459 -- high pressure relief\n",
        "        , 501,502,503,224702 -- PCV\n",
        "        , 223,667,668,669,670,671,672 -- TCPCV\n",
        "        , 224701 -- PSVlevel\n",
        "        )\n",
        "        THEN 1\n",
        "      else 0\n",
        "    end\n",
        "    ) as MechVent\n",
        "    , max(\n",
        "      case\n",
        "        -- initiation of oxygen therapy indicates the ventilation has ended\n",
        "        when itemid = 226732 and value in\n",
        "        (\n",
        "          'Nasal cannula', -- 153714 observations\n",
        "          'Face tent', -- 24601 observations\n",
        "          'Aerosol-cool', -- 24560 observations\n",
        "          'Trach mask ', -- 16435 observations\n",
        "          'High flow neb', -- 10785 observations\n",
        "          'Non-rebreather', -- 5182 observations\n",
        "          'Venti mask ', -- 1947 observations\n",
        "          'Medium conc mask ', -- 1888 observations\n",
        "          'T-piece', -- 1135 observations\n",
        "          'High flow nasal cannula', -- 925 observations\n",
        "          'Ultrasonic neb', -- 9 observations\n",
        "          'Vapomist' -- 3 observations\n",
        "        ) then 1\n",
        "        when itemid = 467 and value in\n",
        "        (\n",
        "          'Cannula', -- 278252 observations\n",
        "          'Nasal Cannula', -- 248299 observations\n",
        "          -- 'None', -- 95498 observations\n",
        "          'Face Tent', -- 35766 observations\n",
        "          'Aerosol-Cool', -- 33919 observations\n",
        "          'Trach Mask', -- 32655 observations\n",
        "          'Hi Flow Neb', -- 14070 observations\n",
        "          'Non-Rebreather', -- 10856 observations\n",
        "          'Venti Mask', -- 4279 observations\n",
        "          'Medium Conc Mask', -- 2114 observations\n",
        "          'Vapotherm', -- 1655 observations\n",
        "          'T-Piece', -- 779 observations\n",
        "          'Hood', -- 670 observations\n",
        "          'Hut', -- 150 observations\n",
        "          'TranstrachealCat', -- 78 observations\n",
        "          'Heated Neb', -- 37 observations\n",
        "          'Ultrasonic Neb' -- 2 observations\n",
        "        ) then 1\n",
        "      else 0\n",
        "      end\n",
        "    ) as OxygenTherapy\n",
        "    , max(\n",
        "      case when itemid is null or value is null then 0\n",
        "        -- extubated indicates ventilation event has ended\n",
        "        when itemid = 640 and value = 'Extubated' then 1\n",
        "        when itemid = 640 and value = 'Self Extubation' then 1\n",
        "      else 0\n",
        "      end\n",
        "      )\n",
        "      as Extubated\n",
        "    , max(\n",
        "      case when itemid is null or value is null then 0\n",
        "        when itemid = 640 and value = 'Self Extubation' then 1\n",
        "      else 0\n",
        "      end\n",
        "      )\n",
        "      as SelfExtubated\n",
        "from `physionet-data.mimiciv_3_1_icu.chartevents` ce\n",
        "where ce.value is not null\n",
        "and itemid in\n",
        "(\n",
        "    -- the below are settings used to indicate ventilation\n",
        "      720, 223849 -- vent mode\n",
        "    , 223848 -- vent type\n",
        "    , 445, 448, 449, 450, 1340, 1486, 1600, 224687 -- minute volume\n",
        "    , 639, 654, 681, 682, 683, 684,224685,224684,224686 -- tidal volume\n",
        "    , 218,436,535,444,224697,224695,224696,224746,224747 -- High/Low/Peak/Mean (\"RespPressure\")\n",
        "    , 221,1,1211,1655,2000,226873,224738,224419,224750,227187 -- Insp pressure\n",
        "    , 543 -- PlateauPressure\n",
        "    , 5865,5866,224707,224709,224705,224706 -- APRV pressure\n",
        "    , 60,437,505,506,686,220339,224700 -- PEEP\n",
        "    , 3459 -- high pressure relief\n",
        "    , 501,502,503,224702 -- PCV\n",
        "    , 223,667,668,669,670,671,672 -- TCPCV\n",
        "    , 224701 -- PSVlevel\n",
        "\n",
        "    -- the below are settings used to indicate extubation\n",
        "    , 640 -- extubated\n",
        "\n",
        "    -- the below indicate oxygen/NIV, i.e. the end of a mechanical vent event\n",
        "    , 468 -- O2 Delivery Device#2\n",
        "    , 469 -- O2 Delivery Mode\n",
        "    , 470 -- O2 Flow (lpm)\n",
        "    , 471 -- O2 Flow (lpm) #2\n",
        "    , 227287 -- O2 Flow (additional cannula)\n",
        "    , 226732 -- O2 Delivery Device(s)\n",
        "    , 223834 -- O2 Flow\n",
        "\n",
        "    -- used in both oxygen + vent calculation\n",
        "    , 467 -- O2 Delivery Device\n",
        ")\n",
        "group by stay_id, charttime\n",
        "UNION DISTINCT\n",
        "-- add in the extubation flags from procedureevents_mv\n",
        "-- note that we only need the start time for the extubation\n",
        "-- (extubation is always charted as ending 1 minute after it started)\n",
        "select\n",
        "  stay_id, starttime as charttime\n",
        "  , 0 as MechVent\n",
        "  , 0 as OxygenTherapy\n",
        "  , 1 as Extubated\n",
        "  , case when itemid = 225468 then 1 else 0 end as SelfExtubated\n",
        "from `physionet-data.mimiciv_3_1_icu.procedureevents`\n",
        "where itemid in\n",
        "(\n",
        "  227194 -- \"Extubation\"\n",
        ", 225468 -- \"Unplanned Extubation (patient-initiated)\"\n",
        ", 225477 -- \"Unplanned Extubation (non-patient initiated)\"\n",
        ");\n",
        "\"\"\"\n",
        "durations_df = run_query(query)"
      ],
      "metadata": {
        "colab": {
          "base_uri": "https://localhost:8080/"
        },
        "id": "O8PNUTznsSE8",
        "outputId": "6ed536e5-01db-464a-86d1-c2e101c5bb11"
      },
      "execution_count": 13,
      "outputs": [
        {
          "output_type": "stream",
          "name": "stdout",
          "text": [
            "Downloading: 100%|\u001b[32m██████████\u001b[0m|\n"
          ]
        }
      ]
    },
    {
      "cell_type": "code",
      "source": [
        "print(len(durations_df))\n",
        "durations_df.to_csv(\"ventilation_classification.csv\", index=False)\n",
        "files.download(\"ventilation_classification.csv\")"
      ],
      "metadata": {
        "colab": {
          "base_uri": "https://localhost:8080/"
        },
        "id": "t6u5-isqyhS8",
        "outputId": "67b553f9-d8b7-4d74-f713-3b2bff495092"
      },
      "execution_count": 16,
      "outputs": [
        {
          "output_type": "stream",
          "name": "stdout",
          "text": [
            "2470083\n"
          ]
        }
      ]
    },
    {
      "cell_type": "markdown",
      "source": [
        "Users should add this dataset to their BigQuery source before proceeding"
      ],
      "metadata": {
        "id": "lC5w2ZeFBdSX"
      }
    },
    {
      "cell_type": "code",
      "source": [
        "vent_durations_query = \"\"\"\n",
        "with vd0 as\n",
        "(\n",
        "  select\n",
        "    stay_id\n",
        "    -- this carries over the previous charttime which had a mechanical ventilation event\n",
        "    , case\n",
        "        when MechVent=1 then\n",
        "          LAG(CHARTTIME, 1) OVER (partition by stay_id, MechVent order by charttime)\n",
        "        else null\n",
        "      end as charttime_lag\n",
        "    , charttime\n",
        "    , MechVent\n",
        "    , OxygenTherapy\n",
        "    , Extubated\n",
        "    , SelfExtubated\n",
        "  from `my-project-1532744781277.mimiciv_3_1_prj_vent_durations.mimiciv_3_1_prj_vent_durations`\n",
        ")\n",
        ", vd1 as\n",
        "(\n",
        "  select\n",
        "      stay_id\n",
        "      , charttime_lag\n",
        "      , charttime\n",
        "      , MechVent\n",
        "      , OxygenTherapy\n",
        "      , Extubated\n",
        "      , SelfExtubated\n",
        "\n",
        "      -- if this is a mechanical ventilation event, we calculate the time since the last event\n",
        "      , case\n",
        "          -- if the current observation indicates mechanical ventilation is present\n",
        "          -- calculate the time since the last vent event\n",
        "          when MechVent=1 then\n",
        "            DATETIME_DIFF(CHARTTIME, charttime_lag, MINUTE)/60\n",
        "          else null\n",
        "        end as ventduration\n",
        "\n",
        "      , LAG(Extubated,1)\n",
        "      OVER\n",
        "      (\n",
        "      partition by stay_id, case when MechVent=1 or Extubated=1 then 1 else 0 end\n",
        "      order by charttime\n",
        "      ) as ExtubatedLag\n",
        "\n",
        "      -- now we determine if the current mech vent event is a \"new\", i.e. they've just been intubated\n",
        "      , case\n",
        "        -- if there is an extubation flag, we mark any subsequent ventilation as a new ventilation event\n",
        "          --when Extubated = 1 then 0 -- extubation is *not* a new ventilation event, the *subsequent* row is\n",
        "          when\n",
        "            LAG(Extubated,1)\n",
        "            OVER\n",
        "            (\n",
        "            partition by stay_id, case when MechVent=1 or Extubated=1 then 1 else 0 end\n",
        "            order by charttime\n",
        "            )\n",
        "            = 1 then 1\n",
        "          -- if patient has initiated oxygen therapy, and is not currently vented, start a newvent\n",
        "          when MechVent = 0 and OxygenTherapy = 1 then 1\n",
        "            -- if there is less than 8 hours between vent settings, we do not treat this as a new ventilation event\n",
        "          when CHARTTIME > DATETIME_ADD(charttime_lag, INTERVAL '8' HOUR)\n",
        "            then 1\n",
        "        else 0\n",
        "        end as newvent\n",
        "  -- use the staging table with only vent settings from chart events\n",
        "  FROM vd0 ventsettings\n",
        ")\n",
        ", vd2 as\n",
        "(\n",
        "  select vd1.*\n",
        "  -- create a cumulative sum of the instances of new ventilation\n",
        "  -- this results in a monotonic integer assigned to each instance of ventilation\n",
        "  , case when MechVent=1 or Extubated = 1 then\n",
        "      SUM( newvent )\n",
        "      OVER ( partition by stay_id order by charttime )\n",
        "    else null end\n",
        "    as ventnum\n",
        "  --- now we convert CHARTTIME of ventilator settings into durations\n",
        "  from vd1\n",
        ")\n",
        "-- create the durations for each mechanical ventilation instance\n",
        "select stay_id\n",
        "  -- regenerate ventnum so it's sequential\n",
        "  , ROW_NUMBER() over (partition by stay_id order by ventnum) as ventnum\n",
        "  , min(charttime) as starttime\n",
        "  , max(charttime) as endtime\n",
        "  , DATETIME_DIFF(max(charttime), min(charttime), MINUTE)/60 AS duration_hours\n",
        "from vd2\n",
        "group by stay_id, vd2.ventnum\n",
        "having min(charttime) != max(charttime)\n",
        "-- patient had to be mechanically ventilated at least once\n",
        "-- i.e. max(mechvent) should be 1\n",
        "-- this excludes a frequent situation of NIV/oxygen before intub\n",
        "-- in these cases, ventnum=0 and max(mechvent)=0, so they are ignored\n",
        "and max(mechvent) = 1\n",
        "order by stay_id, ventnum\n",
        "\"\"\"\n",
        "\n",
        "vent_durations_df = run_query(vent_durations_query)"
      ],
      "metadata": {
        "colab": {
          "base_uri": "https://localhost:8080/"
        },
        "id": "5LNNtEd3zWjC",
        "outputId": "df1b247e-d95e-4cbb-d822-00300139d23b"
      },
      "execution_count": 44,
      "outputs": [
        {
          "output_type": "stream",
          "name": "stdout",
          "text": [
            "Downloading: 100%|\u001b[32m██████████\u001b[0m|\n"
          ]
        }
      ]
    },
    {
      "cell_type": "code",
      "source": [
        "print(len(vent_durations_df))\n",
        "vent_durations_df.to_csv(\"ventilation_durations_df.csv\", index=False)\n",
        "files.download(\"ventilation_durations_df.csv\")"
      ],
      "metadata": {
        "colab": {
          "base_uri": "https://localhost:8080/",
          "height": 34
        },
        "id": "asfaYhly82PW",
        "outputId": "5db83945-b3c2-4b4f-c2aa-3102417647ca"
      },
      "execution_count": 49,
      "outputs": [
        {
          "output_type": "stream",
          "name": "stdout",
          "text": [
            "54902\n"
          ]
        },
        {
          "output_type": "display_data",
          "data": {
            "text/plain": [
              "<IPython.core.display.Javascript object>"
            ],
            "application/javascript": [
              "\n",
              "    async function download(id, filename, size) {\n",
              "      if (!google.colab.kernel.accessAllowed) {\n",
              "        return;\n",
              "      }\n",
              "      const div = document.createElement('div');\n",
              "      const label = document.createElement('label');\n",
              "      label.textContent = `Downloading \"${filename}\": `;\n",
              "      div.appendChild(label);\n",
              "      const progress = document.createElement('progress');\n",
              "      progress.max = size;\n",
              "      div.appendChild(progress);\n",
              "      document.body.appendChild(div);\n",
              "\n",
              "      const buffers = [];\n",
              "      let downloaded = 0;\n",
              "\n",
              "      const channel = await google.colab.kernel.comms.open(id);\n",
              "      // Send a message to notify the kernel that we're ready.\n",
              "      channel.send({})\n",
              "\n",
              "      for await (const message of channel.messages) {\n",
              "        // Send a message to notify the kernel that we're ready.\n",
              "        channel.send({})\n",
              "        if (message.buffers) {\n",
              "          for (const buffer of message.buffers) {\n",
              "            buffers.push(buffer);\n",
              "            downloaded += buffer.byteLength;\n",
              "            progress.value = downloaded;\n",
              "          }\n",
              "        }\n",
              "      }\n",
              "      const blob = new Blob(buffers, {type: 'application/binary'});\n",
              "      const a = document.createElement('a');\n",
              "      a.href = window.URL.createObjectURL(blob);\n",
              "      a.download = filename;\n",
              "      div.appendChild(a);\n",
              "      a.click();\n",
              "      div.remove();\n",
              "    }\n",
              "  "
            ]
          },
          "metadata": {}
        },
        {
          "output_type": "display_data",
          "data": {
            "text/plain": [
              "<IPython.core.display.Javascript object>"
            ],
            "application/javascript": [
              "download(\"download_57120009-d045-44cb-a94f-076ca2120a8a\", \"ventilation_durations_df.csv\", 3975792)"
            ]
          },
          "metadata": {}
        }
      ]
    },
    {
      "cell_type": "markdown",
      "source": [
        "Users should add this dataset to their BigQuery source before proceeding"
      ],
      "metadata": {
        "id": "_VKl0XNOBqrQ"
      }
    },
    {
      "cell_type": "code",
      "source": [
        "vaso_query = \"\"\"\n",
        "-- Consecutive administrations are numbered 1, 2, ...\n",
        "-- Total time on the drug can be calculated from this table\n",
        "-- by grouping using stay_id\n",
        "-- select only the ITEMIDs from the inputevents_mv table related to vasopressors\n",
        "WITH io_mv AS (\n",
        "  SELECT\n",
        "    stay_id, linkorderid, starttime, endtime\n",
        "  FROM `physionet-data.mimiciv_3_1_icu.inputevents`\n",
        "  WHERE itemid IN (\n",
        "    221906,221289,221749,222315,221662,221653,221986\n",
        "  )\n",
        "  AND statusdescription != 'Rewritten'\n",
        "),\n",
        "vasomv AS (\n",
        "  SELECT\n",
        "    stay_id, linkorderid,\n",
        "    MIN(starttime) AS starttime,\n",
        "    MAX(endtime) AS endtime\n",
        "  FROM io_mv\n",
        "  GROUP BY stay_id, linkorderid\n",
        "),\n",
        "joined_intervals AS (\n",
        "  SELECT\n",
        "    s1.stay_id,\n",
        "    s1.starttime,\n",
        "    t1.endtime\n",
        "  FROM vasomv s1\n",
        "  JOIN vasomv t1\n",
        "    ON s1.stay_id = t1.stay_id\n",
        "    AND s1.starttime <= t1.endtime\n",
        "),\n",
        "vasomv_grp AS (\n",
        "  SELECT\n",
        "    s1.stay_id,\n",
        "    s1.starttime,\n",
        "    MIN(t1.endtime) AS endtime\n",
        "  FROM joined_intervals t1\n",
        "  JOIN vasomv s1\n",
        "    ON s1.stay_id = t1.stay_id AND s1.starttime = t1.starttime\n",
        "  WHERE NOT EXISTS (\n",
        "    SELECT 1 FROM vasomv t2\n",
        "    WHERE t1.stay_id = t2.stay_id\n",
        "      AND t1.endtime >= t2.starttime\n",
        "      AND t1.endtime < t2.endtime\n",
        "  )\n",
        "  AND NOT EXISTS (\n",
        "    SELECT 1 FROM vasomv s2\n",
        "    WHERE s1.stay_id = s2.stay_id\n",
        "      AND s1.starttime > s2.starttime\n",
        "      AND s1.starttime <= s2.endtime\n",
        "  )\n",
        "  GROUP BY s1.stay_id, s1.starttime\n",
        ")\n",
        "\n",
        "SELECT\n",
        "  stay_id,\n",
        "  ROW_NUMBER() OVER (PARTITION BY stay_id ORDER BY starttime) AS vasonum,\n",
        "  starttime,\n",
        "  endtime,\n",
        "  DATETIME_DIFF(endtime, starttime, HOUR) AS duration_hours\n",
        "FROM vasomv_grp\n",
        "ORDER BY stay_id, vasonum;\n",
        "\n",
        "\"\"\"\n",
        "vaso_df = run_query(vaso_query)"
      ],
      "metadata": {
        "colab": {
          "base_uri": "https://localhost:8080/"
        },
        "id": "EzdOCdO4FdKY",
        "outputId": "824e4183-7612-4e84-bb1a-b4ef693fea84"
      },
      "execution_count": 54,
      "outputs": [
        {
          "output_type": "stream",
          "name": "stdout",
          "text": [
            "Downloading: 100%|\u001b[32m██████████\u001b[0m|\n"
          ]
        }
      ]
    },
    {
      "cell_type": "code",
      "source": [
        "print(len(vaso_df))\n",
        "vaso_df.to_csv(\"vasopressor_df.csv\", index=False)\n",
        "files.download(\"vasopressor_df.csv\")"
      ],
      "metadata": {
        "colab": {
          "base_uri": "https://localhost:8080/",
          "height": 34
        },
        "id": "J8V6gK5qPg98",
        "outputId": "d91517ab-15d1-469d-bf31-b20885310f59"
      },
      "execution_count": 56,
      "outputs": [
        {
          "output_type": "stream",
          "name": "stdout",
          "text": [
            "53842\n"
          ]
        },
        {
          "output_type": "display_data",
          "data": {
            "text/plain": [
              "<IPython.core.display.Javascript object>"
            ],
            "application/javascript": [
              "\n",
              "    async function download(id, filename, size) {\n",
              "      if (!google.colab.kernel.accessAllowed) {\n",
              "        return;\n",
              "      }\n",
              "      const div = document.createElement('div');\n",
              "      const label = document.createElement('label');\n",
              "      label.textContent = `Downloading \"${filename}\": `;\n",
              "      div.appendChild(label);\n",
              "      const progress = document.createElement('progress');\n",
              "      progress.max = size;\n",
              "      div.appendChild(progress);\n",
              "      document.body.appendChild(div);\n",
              "\n",
              "      const buffers = [];\n",
              "      let downloaded = 0;\n",
              "\n",
              "      const channel = await google.colab.kernel.comms.open(id);\n",
              "      // Send a message to notify the kernel that we're ready.\n",
              "      channel.send({})\n",
              "\n",
              "      for await (const message of channel.messages) {\n",
              "        // Send a message to notify the kernel that we're ready.\n",
              "        channel.send({})\n",
              "        if (message.buffers) {\n",
              "          for (const buffer of message.buffers) {\n",
              "            buffers.push(buffer);\n",
              "            downloaded += buffer.byteLength;\n",
              "            progress.value = downloaded;\n",
              "          }\n",
              "        }\n",
              "      }\n",
              "      const blob = new Blob(buffers, {type: 'application/binary'});\n",
              "      const a = document.createElement('a');\n",
              "      a.href = window.URL.createObjectURL(blob);\n",
              "      a.download = filename;\n",
              "      div.appendChild(a);\n",
              "      a.click();\n",
              "      div.remove();\n",
              "    }\n",
              "  "
            ]
          },
          "metadata": {}
        },
        {
          "output_type": "display_data",
          "data": {
            "text/plain": [
              "<IPython.core.display.Javascript object>"
            ],
            "application/javascript": [
              "download(\"download_d076b880-7266-4e52-8810-ab7e0182aa04\", \"vasopressor_df.csv\", 2884098)"
            ]
          },
          "metadata": {}
        }
      ]
    },
    {
      "cell_type": "markdown",
      "source": [
        "Users should add this dataset to their BigQuery source before proceeding"
      ],
      "metadata": {
        "id": "hRM_cA1IBsW6"
      }
    }
  ]
}